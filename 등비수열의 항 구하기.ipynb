### Title

{
 "cells": [
  {
   "cell_type": "code",
   "execution_count": null,
   "id": "d0b9abb0",
   "metadata": {},
   "outputs": [],
   "source": [
    "u = 0"
   ]
  },
  {
   "cell_type": "markdown",
   "id": "b858b593",
   "metadata": {},
   "source": [
    "문자 u 에 0이라는 값을 대입합니다. "
   ]
  },
  {
   "cell_type": "code",
   "execution_count": null,
   "id": "99bc26f6",
   "metadata": {},
   "outputs": [],
   "source": [
    "res = []"
   ]
  },
  {
   "cell_type": "markdown",
   "id": "6840d028",
   "metadata": {},
   "source": [
    "문자 res를 리스트로써 지정합니다."
   ]
  },
  {
   "cell_type": "code",
   "execution_count": null,
   "id": "79a21280",
   "metadata": {},
   "outputs": [],
   "source": [
    "for n in range(0,20)"
   ]
  },
  {
   "cell_type": "markdown",
   "id": "2ed24c10",
   "metadata": {},
   "source": [
    "for 반복문을 지정합니다.\n",
    "n에 0이상 20미만의 값을 차례로 대입합니다."
   ]
  },
  {
   "cell_type": "code",
   "execution_count": null,
   "id": "b759cd8f",
   "metadata": {},
   "outputs": [],
   "source": [
    "    u=(2**n)+1"
   ]
  },
  {
   "cell_type": "markdown",
   "id": "4a4acfcc",
   "metadata": {},
   "source": [
    "u에 '2의 n승 더하기 1' 의 값을 대입합니다."
   ]
  },
  {
   "cell_type": "code",
   "execution_count": null,
   "id": "efd8a9b5",
   "metadata": {},
   "outputs": [],
   "source": [
    "    res.append(u)"
   ]
  },
  {
   "cell_type": "markdown",
   "id": "428a704e",
   "metadata": {},
   "source": [
    "u에 대입된 값을 res 리스트에 항으로써 추가해줍니다"
   ]
  },
  {
   "cell_type": "code",
   "execution_count": null,
   "id": "df1e3a67",
   "metadata": {},
   "outputs": [],
   "source": [
    "print(res)"
   ]
  },
  {
   "cell_type": "markdown",
   "id": "a437cc8e",
   "metadata": {},
   "source": [
    "res 리스트를 결과값에 출력합니다.\n",
    "완성된 식은 다음과 같습니다. "
   ]
  },
  {
   "cell_type": "code",
   "execution_count": null,
   "id": "ff5068a7",
   "metadata": {},
   "outputs": [],
   "source": [
    "u=0\n",
    "res=[]\n",
    "for n in range (0,20):\n",
    "    u = (2**n)+1\n",
    "    res.append(u)\n",
    "print (res)"
   ]
  },
  {
   "cell_type": "markdown",
   "id": "e9c05b7f",
   "metadata": {},
   "source": [
    "리스트를 사용하지 않고 결과값만 출력되길 원하는 경우 다음과 같이 입력합니다."
   ]
  },
  {
   "cell_type": "code",
   "execution_count": null,
   "id": "1e5a3c5a",
   "metadata": {},
   "outputs": [],
   "source": [
    "u=0\n",
    "for n in range (0,20):\n",
    "    u = (2**n)+1"
   ]
  }
 ],
 "metadata": {
  "kernelspec": {
   "display_name": "Python 3 (ipykernel)",
   "language": "python",
   "name": "python3"
  }
 },
 "nbformat": 4,
 "nbformat_minor": 5
}
