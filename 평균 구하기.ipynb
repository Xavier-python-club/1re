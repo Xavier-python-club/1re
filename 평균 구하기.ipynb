{
 "cells": [
  {
   "cell_type": "markdown",
   "id": "4af4fca2",
   "metadata": {},
   "source": [
    "#무작위로 불러온 숫자들의 평균 구하기\n",
    "$\\\\$\n",
    "`random`모듈을 이용하여 무작위로 불러온 숫자들의 평균을 구해보도록 합시다. \n",
    "\n",
    "--------------------\n",
    "\n",
    "```\n",
    "import random\n",
    "```\n",
    "`random`모듈은 python 기본 내장 모듈입니다.  \n",
    "여러가지 함수들을 포함하고 있지만 이번 프로그램에 필요한 함수는 `randint`와 `sample`입니다.  \n",
    "\n",
    "```\n",
    "n = random.randint(1,10)\n",
    "```\n",
    "`randint`함수를 이용하여 1부터 10미만의 숫자들 중 무작위로 정수를 불러옵니다.\n",
    "n은 원소의 갯수가 될 것입니다. \n",
    "\n",
    "```\n",
    "ran_list = random.sample(range(1,101),n)\n",
    "print('주어진 값들은 '+str(ran_list)+'입니다.')\n",
    "```\n",
    "`sample`함수로 랜덤 리스트를 생성해줍니다. sample(범위, 원소 갯수)를 입력합니다.\n",
    "1부터 100까지의 정수들 중 위에서 무작위로 생성한 n개를 뽑아 리스트에 넣고 리스트를 출력해줍니다. 이 때 리스트는 문자열 형식이어야 합니다. \n",
    "\n",
    "```\n",
    "res = sum(ran_list)/len(ran_list)\n",
    "print('위 값들의 평균은 '+str(res)+'입니다.')\n",
    "```\n",
    "최종 결과 값에 평균을 구하는 공식을 써줍니다.  \n",
    "평균을 구하는 공식은 원소들의 합을 원소의 갯수로 나눈 것이므로, 리스트의 원소들을 모두 더하는 `sum()`을 이용해준 후에 그 값을 리스트의 길이 `len()`으로 나누어줍니다. 그 후 결과값을 문구와 함께 출력해줍니다. 이 때에도 마찬가지로 결과값은 문자열 형식이어야 합니다.\n",
    "\n",
    "$\\\\\n",
    "\\\\$\n",
    "\n",
    "-------------------------\n",
    "\n",
    "$\\\\\n",
    "\\\\$\n",
    "\n",
    "아래는 위 프로그램을 돌렸을 때의 결과입니다.\n",
    "  \n",
    "  "
   ]
  },
  {
   "cell_type": "code",
   "execution_count": 1,
   "id": "9dba9398",
   "metadata": {},
   "outputs": [
    {
     "name": "stdout",
     "output_type": "stream",
     "text": [
      "주어진 값들은 [53, 54, 23, 87, 10, 47, 37]입니다.\n",
      "위 값들의 평균은 44.42857142857143입니다.\n"
     ]
    }
   ],
   "source": [
    "import random\n",
    "\n",
    "n = random.randint(1,10)\n",
    "ran_list = random.sample(range(1,101),n)\n",
    "print('주어진 값들은 '+str(ran_list)+'입니다.')\n",
    "\n",
    "res = sum(ran_list)/len(ran_list)\n",
    "print('위 값들의 평균은 '+str(res)+'입니다.')"
   ]
  }
 ],
 "metadata": {
  "kernelspec": {
   "display_name": "Python 3 (ipykernel)",
   "language": "python",
   "name": "python3"
  },
  "language_info": {
   "codemirror_mode": {
    "name": "ipython",
    "version": 3
   },
   "file_extension": ".py",
   "mimetype": "text/x-python",
   "name": "python",
   "nbconvert_exporter": "python",
   "pygments_lexer": "ipython3",
   "version": "3.8.2"
  }
 },
 "nbformat": 4,
 "nbformat_minor": 5
}
