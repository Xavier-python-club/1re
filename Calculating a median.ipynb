{
 "cells": [
  {
   "cell_type": "markdown",
   "id": "f1accd86",
   "metadata": {},
   "source": [
    "# Calculating a median\n",
    "\n",
    "Let's learn how to calculate the median of list of known numbers.\n",
    "\n",
    "------------------------------------------------------------------------------------------------------------------------------------------\n",
    "\n",
    "    import statistics\n",
    "\n",
    "FIrst, import the statistics module.\n",
    "It will simplify our task since it already contains the function ```median()```, which calculates the median of a list.\n",
    "\n",
    "\n",
    "    L = [5,7,2,4,1,1,10]\n",
    "    print(statistics.median(L))\n",
    "    \n",
    "Enter the desired values to the list L and print it directly using the ```median()``` function.\n",
    "This will automatically rearange the values in order and calculate the median.\n",
    "\n",
    "\n",
    "------------------------------------------------------------------------------------------------------------------------------------------\n",
    "\n",
    "Below is the result of the runned program:"
   ]
  },
  {
   "cell_type": "code",
   "execution_count": 1,
   "id": "cf52cc00",
   "metadata": {},
   "outputs": [
    {
     "name": "stdout",
     "output_type": "stream",
     "text": [
      "3\n"
     ]
    }
   ],
   "source": [
    "import statistics\n",
    "\n",
    "L = [5,7,2,3,1,1,10]\n",
    "print(statistics.median(L))"
   ]
  },
  {
   "cell_type": "markdown",
   "id": "676164a2",
   "metadata": {},
   "source": [
    "------------------------------------------------------------------------------------------------------------------------------------------\n",
    "\n",
    "Now let's verify if the result is correct.\n",
    "\n",
    "After ordering our list, we get the following:\n",
    "\n",
    "1,1,2,3,5,7,10\n",
    "\n",
    "The median is the middle value of an ordered list.\n",
    "Since this list has 7 items, the median will be the fourth, which is 3.\n",
    "\n",
    "The median of our list is indeed 3."
   ]
  }
 ],
 "metadata": {
  "kernelspec": {
   "display_name": "Python 3 (ipykernel)",
   "language": "python",
   "name": "python3"
  },
  "language_info": {
   "codemirror_mode": {
    "name": "ipython",
    "version": 3
   },
   "file_extension": ".py",
   "mimetype": "text/x-python",
   "name": "python",
   "nbconvert_exporter": "python",
   "pygments_lexer": "ipython3",
   "version": "3.9.8"
  }
 },
 "nbformat": 4,
 "nbformat_minor": 5
}
