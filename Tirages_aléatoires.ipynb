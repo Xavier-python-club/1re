{
  "metadata": {
    "language_info": {
      "codemirror_mode": {
        "name": "python",
        "version": 3
      },
      "file_extension": ".py",
      "mimetype": "text/x-python",
      "name": "python",
      "nbconvert_exporter": "python",
      "pygments_lexer": "ipython3",
      "version": "3.8"
    },
    "kernelspec": {
      "name": "python",
      "display_name": "Pyolite",
      "language": "python"
    }
  },
  "nbformat_minor": 4,
  "nbformat": 4,
  "cells": [
    {
      "cell_type": "raw",
      "source": [
        "Les tirages aléatoires"
      ],
      "metadata": {}
    },
    {
      "cell_type": "raw",
      "source": [
        "Tout d'abord, nous allons apprendre comment faire des tirages aléatoires en utilisant Python."
      ],
      "metadata": {}
    },
    {
      "cell_type": "code",
      "execution_count": 1,
      "source": [
        "from random import*"
      ],
      "outputs": [],
      "metadata": {
        "trusted": true
      }
    },
    {
      "cell_type": "markdown",
      "source": [
        "On importe le module random, qui permet de sélectionner des éléments au hasard."
      ],
      "metadata": {}
    },
    {
      "cell_type": "code",
      "execution_count": 2,
      "source": [
        "def aleatoire():\n",
        "    n=randint(1,100)\n",
        "    return n"
      ],
      "outputs": [],
      "metadata": {
        "trusted": true
      }
    },
    {
      "cell_type": "markdown",
      "source": [
        "Le programme qui se nomme aleatoire utilise la fonction randint pour laquelle l'intervalle dans laquelle le nombre tiré est défini (ici, l'intervalle est de 1 à 100, les deux valeurs étant incluses dans l'intervalle). \n",
        "Remarque : si on utilise la fonction randint, les nombres sélectionnés ne sont que des nombres entiers."
      ],
      "metadata": {}
    },
    {
      "cell_type": "code",
      "execution_count": 3,
      "source": [
        "print(aleatoire())"
      ],
      "outputs": [
        {
          "output_type": "stream",
          "name": "stdout",
          "text": [
            "63\n"
          ]
        }
      ],
      "metadata": {
        "trusted": true
      }
    },
    {
      "cell_type": "markdown",
      "source": [
        "Après, on imprime la valeur aléatoire sélectionnée, et le programme nous donne au hasard un nombre entier entre 1 et 100, 63."
      ],
      "metadata": {}
    },
    {
      "cell_type": "raw",
      "source": [
        "Mais comment faire si on a besoin d'une liste aléatoires de nombres et pas un seul nombre ? Pour cela, il faut tout d'abord importer le module random :"
      ],
      "metadata": {}
    },
    {
      "cell_type": "code",
      "execution_count": 4,
      "source": [
        "from random import*"
      ],
      "outputs": [],
      "metadata": {
        "trusted": true
      }
    },
    {
      "cell_type": "code",
      "execution_count": 5,
      "source": [
        "for i in range(10):\n",
        "    n=randint(1,1000)\n",
        "    print(n)"
      ],
      "outputs": [
        {
          "output_type": "stream",
          "name": "stdout",
          "text": [
            "615\n",
            "525\n",
            "883\n",
            "81\n",
            "176\n",
            "963\n",
            "631\n",
            "387\n",
            "993\n",
            "879\n"
          ]
        }
      ],
      "metadata": {
        "trusted": true
      }
    },
    {
      "cell_type": "markdown",
      "source": [
        "La ligne \"for i in range(x)\" permet à l'ordinateur de comprendre qu'il doit sélectionner x nombres (ici, x=10 donc le programme va renvoyer 10 nombres entiers, au hasard). "
      ],
      "metadata": {}
    },
    {
      "cell_type": "markdown",
      "source": [
        "Le programme utilise la fonction randint pour laquelle l'intervalle dans laquelle le nombre tiré est défini (ici, l'intervalle est de 1 à 1000, impliquant que le nombre sera entre 1 et 1000, les deux valeurs étant également incluses dans l'intervalle)."
      ],
      "metadata": {}
    },
    {
      "cell_type": "markdown",
      "source": [
        "Le programme renvoie donc bien aléatoirement 10 nombres qui se situent entre 1 et 1000."
      ],
      "metadata": {}
    }
  ]
}