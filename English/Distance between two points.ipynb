{
 "cells": [
  {
   "cell_type": "markdown",
   "id": "bf1a1a32",
   "metadata": {},
   "source": [
    "# Calculating the distance between two given points\n",
    "\n",
    "The distance between two given points is equal to the lenght of the segment that connects the two given points.\n",
    "We will thus calculate the lenght of the segment in order to determinate the distance.\n",
    "\n",
    "------------------------------------------------------------------------------------------------------------------------------------------\n",
    "\n",
    "    from math import sqrt\n",
    "    \n",
    "First, import the ```sqrt``` (square root) function from the math module.\n",
    "\n",
    "\n",
    "    def d_points(xA,yA,xB,yB):\n",
    "        d = sqrt((xB-xA)**2+(yB-yA)**2)\n",
    "        \n",
    "Define the coordinates of the two points and enter the formula that caculates the distance between two points with the ```sqrt``` function.\n",
    "For two points A(x,y) et B(x,y), the formula is: distance = √(xB-xA)^2+(yB-yA)^2.\n",
    "\n",
    "\n",
    "        return d\n",
    "        \n",
    "Use the return statement to end the execution of the function and store it's result value.\n",
    "\n",
    "------------------------------------------------------------------------------------------------------------------------------------------\n",
    "\n",
    "Bellow is the final program:\n"
   ]
  },
  {
   "cell_type": "code",
   "execution_count": 6,
   "id": "5fd26209",
   "metadata": {},
   "outputs": [],
   "source": [
    "from math import sqrt\n",
    "def d_points(xA,xB,yA,yB):\n",
    "    d = sqrt((xB-xA)**2 + (yB-yA)**2)\n",
    "    return d"
   ]
  },
  {
   "cell_type": "markdown",
   "id": "1e954124",
   "metadata": {},
   "source": [
    "------------------------------------------------------------------------------------------------------------------------------------------\n",
    "\n",
    "Bellow is the runned program with two points A(6,2) and B(4,1):\n"
   ]
  },
  {
   "cell_type": "code",
   "execution_count": 7,
   "id": "bf2ee05f",
   "metadata": {},
   "outputs": [
    {
     "name": "stdout",
     "output_type": "stream",
     "text": [
      "5.0\n"
     ]
    }
   ],
   "source": [
    "from math import sqrt\n",
    "\n",
    "def d_points(xA,xB,yA,yB):\n",
    "    d = sqrt((xB-xA)**2 + (yB-yA)**2)\n",
    "    return d\n",
    "\n",
    "ans = d_points(6,2,4,1)\n",
    "print(ans)"
   ]
  },
  {
   "cell_type": "markdown",
   "id": "cc966d21",
   "metadata": {},
   "source": [
    "Assign d_points to ans as in answer, and print it."
   ]
  }
 ],
 "metadata": {
  "kernelspec": {
   "display_name": "Python 3 (ipykernel)",
   "language": "python",
   "name": "python3"
  },
  "language_info": {
   "codemirror_mode": {
    "name": "ipython",
    "version": 3
   },
   "file_extension": ".py",
   "mimetype": "text/x-python",
   "name": "python",
   "nbconvert_exporter": "python",
   "pygments_lexer": "ipython3",
   "version": "3.9.8"
  }
 },
 "nbformat": 4,
 "nbformat_minor": 5
}
