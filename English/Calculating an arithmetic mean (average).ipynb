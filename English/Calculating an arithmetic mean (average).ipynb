{
 "cells": [
  {
   "cell_type": "markdown",
   "id": "7499073e",
   "metadata": {},
   "source": [
    "# Calculating an arithmetic mean (a.k.a. average)\n",
    "\n",
    "Let's learn how to calculate the mean of a list of numbers, as well as calculating the mean of a random list of numbers using the ```random``` module.\n",
    "\n",
    "------------------------------------------------------------------------------------------------------------------------------------------\n",
    "\n",
    "\n",
    "## 1. Calculating the mean of a list of known numbers\n",
    "\n",
    "By definition, a mean (or an average) is equal to the sum of a list of numbers, divided by the count of the numbers in the list.\n",
    "\n",
    "\n",
    "    L = [1,3,6,8,12,36]\n",
    "   \n",
    "First, create a list L and assign to it a list of numbers you desire.\n",
    "Note that in this case the order of the numbers is irrelevant.\n",
    "\n",
    "\n",
    "    mean = sum(L)/len(L)\n",
    "    print(mean)\n",
    "    \n",
    "According to the definition of a mean, we will use ```sum(L)``` that gives the sum of the numbers in L, and ```len(L)``` which gives the lenght of the list, so the count of the numbers in the list.\n",
    "\n",
    "\n",
    "Below is the result of the runned program:"
   ]
  },
  {
   "cell_type": "code",
   "execution_count": 2,
   "id": "2e100a80",
   "metadata": {},
   "outputs": [
    {
     "name": "stdout",
     "output_type": "stream",
     "text": [
      "11.0\n"
     ]
    }
   ],
   "source": [
    "L = [1,3,6,8,12,36]\n",
    "mean = sum(L)/len(L)\n",
    "print(mean)"
   ]
  },
  {
   "cell_type": "markdown",
   "id": "30c6d3c9",
   "metadata": {},
   "source": [
    "Now let's verify if the value is correct:\n",
    "\n",
    "    mean = (1+3+6+8+12+36)/6 = 66/6 = 11\n",
    "\n",
    "The result is indeed 11.\n",
    "\n",
    "\n"
   ]
  },
  {
   "cell_type": "markdown",
   "id": "c867e3a8",
   "metadata": {},
   "source": [
    "## 2. Calculating the mean of a randomly generated list\n",
    "\n",
    "    import random\n",
    "\n",
    "```random``` is a built-in module of python that can be used to generate random numbers.\n",
    "Among the numerous function it includes, ```randint``` and ```sample``` are the ones we need in this program.\n",
    "\n",
    "\n",
    "    n = random.randint(1,10)\n",
    "\n",
    "Use the randint function to get a random integer from 1 to less than 10. n will be the number of elements.\n",
    "\n",
    "\n",
    "    ran_list = random.sample(range(1,101),n)\n",
    "    print('The given values are '+str(ran_list)+'.')\n",
    "    \n",
    "Create a random list using the ```sample``` function. Enter sample( range , number_of_elements ).    \n",
    "Among the integers from 1 to 100, n randomly generated numbers are selected and put in a list, which is printed.\n",
    "In this case, the list must be in string format.\n",
    "    \n",
    "    \n",
    "    res = sum(ran_list)/len(ran_list)\n",
    "    print('The mean of the values above is '+str(res)+'.')\n",
    "\n",
    "Write the formula of the mean to the final result.\n",
    "\n",
    "Since the formula for calculating the mean is the sum of the elements divided by the number of elements, we will use ```sum()``` to add all the elements of the list, then divide the value by the length of the list using ```len()```. \n",
    "Next, print the result along with the phrase. Again, the result must be in string format.\n",
    "\n",
    "\n",
    "------------------------------------------------------------------------------------------------------------------------------------------\n",
    "\n",
    "    \n",
    "    \n",
    "Below is the result of the runned program:"
   ]
  },
  {
   "cell_type": "code",
   "execution_count": 3,
   "id": "98f68a26",
   "metadata": {},
   "outputs": [
    {
     "name": "stdout",
     "output_type": "stream",
     "text": [
      "The given values are [30, 98].\n",
      "The mean of the values above is 64.0.\n"
     ]
    }
   ],
   "source": [
    "import random\n",
    "\n",
    "n = random.randint(1,10)\n",
    "ran_list = random.sample(range(1,101),n)\n",
    "print('The given values are '+str(ran_list)+'.')\n",
    "\n",
    "res = sum(ran_list)/len(ran_list)\n",
    "print('The mean of the values above is '+str(res)+'.')"
   ]
  }
 ],
 "metadata": {
  "kernelspec": {
   "display_name": "Python 3 (ipykernel)",
   "language": "python",
   "name": "python3"
  },
  "language_info": {
   "codemirror_mode": {
    "name": "ipython",
    "version": 3
   },
   "file_extension": ".py",
   "mimetype": "text/x-python",
   "name": "python",
   "nbconvert_exporter": "python",
   "pygments_lexer": "ipython3",
   "version": "3.9.8"
  }
 },
 "nbformat": 4,
 "nbformat_minor": 5
}
