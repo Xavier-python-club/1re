{
 "cells": [
  {
   "cell_type": "markdown",
   "id": "55da2dd6",
   "metadata": {},
   "source": [
    "#나눗셈정리\n",
    "\n",
    "파이썬을 이용하여 나눗셈정리(Euclidean division)를 실행하는 코드를 만들어보고, 주기함수인 삼각함수에 적용시켜보도록 합시다. \n",
    "\n",
    "----------------------------------\n",
    "\n",
    "```\n",
    "def diveuclide(a,b):\n",
    "    while a>=b:\n",
    "        a=a-b\n",
    "    return a\n",
    "```\n",
    "\n",
    "나눗셈정리를 실행하는 함수입니다.\n",
    "`def`를 이용하여 diveuclide라는 이름의 함수를 정의시켜주고, 변수를 a와 b로 둡니다.   \n",
    "a가 b보다 클 경우에 a가 b보다 작아질 때까지 a에서 b를 반복적으로 빼주는 함수입니다. \n",
    "마지막에는 a값을 도출합니다. \n",
    "\n",
    "$\\\\$\n",
    "\n",
    "변수값으로 (125,26)을 대입해봅시다."
   ]
  },
  {
   "cell_type": "code",
   "execution_count": 1,
   "id": "38148c9b",
   "metadata": {},
   "outputs": [
    {
     "name": "stdout",
     "output_type": "stream",
     "text": [
      "21\n"
     ]
    }
   ],
   "source": [
    "def diveuclide(a,b):\n",
    "    while a>=b:\n",
    "        a=a-b\n",
    "    return a\n",
    "\n",
    "res = diveuclide(125,26)\n",
    "print(res)"
   ]
  },
  {
   "cell_type": "markdown",
   "id": "37050e7a",
   "metadata": {},
   "source": [
    "125가 26보다 작아질 때까지 반복하여 26을 빼준 결과로, 125를 6으로 나누었을 때, 나머지는 21임을 알 수 있습니다.   \n",
    "\n",
    "$\\\\$\n",
    "\n",
    "-----------------------------------\n",
    "\n",
    "$\\\\$\n",
    "\n",
    "이번에는 위에서 만든 함수를 삼각함수에 적용시켜보도록 합시다. \n",
    "\n",
    "$\\\\$\n",
    "\n",
    "```\n",
    "from math import sin\n",
    "from math import pi\n",
    "```\n",
    "주기함수를 프로그래밍할 때 사용하게 될 함수들입니다.   \n",
    "`math`모듈에서 사인(또는 코사인)과 $\\pi$를 임포트 해줍니다.\n",
    "\n",
    "$\\\\$\n",
    "\n",
    "```\n",
    "def diveuclide(a):\n",
    "    while a>=2*pi:\n",
    "        a=a-2*pi\n",
    "    return a\n",
    "```\n",
    "위에서 만들었던 함수와는 다르게 사인함수의 주기는 $2\\pi$이므로 변수는 a 하나만 둡니다. \n",
    "a가 $2\\pi$보다 작아질 때까지 주기인 $2\\pi$를 빼줍니다. \n",
    "결과값을 출력할 때는 `sin()`(또는 `cos()`)안에 결과값을 넣어서 출력합니다.\n",
    "\n",
    "$\\\\$\n",
    "\n",
    "변수값으로 ${17\\pi}\\over6$를 대입해봅시다."
   ]
  },
  {
   "cell_type": "code",
   "execution_count": 2,
   "id": "097b87b7",
   "metadata": {},
   "outputs": [
    {
     "name": "stdout",
     "output_type": "stream",
     "text": [
      "0.49999999999999956\n"
     ]
    }
   ],
   "source": [
    "from math import sin\n",
    "from math import pi\n",
    "\n",
    "def diveuclide(a):\n",
    "    while a>=2*pi:\n",
    "        a=a-2*pi\n",
    "    return a\n",
    "\n",
    "res = diveuclide(17*pi/6)\n",
    "print(sin(res))"
   ]
  },
  {
   "cell_type": "markdown",
   "id": "d6be0924",
   "metadata": {},
   "source": [
    "$\\\\$\n",
    "\n",
    "${17\\pi}\\over6$가 $2\\pi$보다 작아질 때까지 $2\\pi$를 빼준 결과값으로 a를 `return`할 때 나오는 값은 ${17\\pi}\\over6$를 $2\\pi$로 나눈 값의 나머지인 ${5\\pi}\\over6$입니다.   \n",
    "최종 결과값을 출력할 때는 `sin()`함수를 적용한 값이 도출되므로 $\\sin{{5\\pi}\\over6}$의 값이 출력됩니다."
   ]
  }
 ],
 "metadata": {
  "kernelspec": {
   "display_name": "Python 3 (ipykernel)",
   "language": "python",
   "name": "python3"
  },
  "language_info": {
   "codemirror_mode": {
    "name": "ipython",
    "version": 3
   },
   "file_extension": ".py",
   "mimetype": "text/x-python",
   "name": "python",
   "nbconvert_exporter": "python",
   "pygments_lexer": "ipython3",
   "version": "3.8.2"
  }
 },
 "nbformat": 4,
 "nbformat_minor": 5
}
