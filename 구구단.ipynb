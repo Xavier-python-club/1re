{
 "cells": [
  {
   "cell_type": "markdown",
   "id": "bdeaa59b",
   "metadata": {},
   "source": [
    "#구구단\n",
    "\n",
    "구구단이 실행되는 프로그램을 만들어보도록 합시다.\n",
    "\n",
    "```\n",
    "nb = int(input(\"구구단을 출력할 숫자를 입력하세요(2~9):\"))\n",
    "```\n",
    "첫 화면에 사용자가 숫자를 입력할 수 있도록 '구구단을 출력할 숫자를 입력하세요(2~9):' 라는 문구가 뜨게 됩니다. `int()` 함수를 이용하여 입력된 값을 정수로 바꾸어줍니다. \n",
    "\n",
    "```\n",
    "ans = []\n",
    "i = 1\n",
    "```\n",
    "ans 라는 리스트를 하나 만들어줍니다. 구구단의 결과값들이 들어가게 됩니다.\n",
    "i는 nb에 곱해질 값입니다. 1부터 시작합니다. \n",
    "\n",
    "```\n",
    "if nb >=2 and nb <= 9:\n",
    "    for i in range(1,10):\n",
    "        res = nb*i\n",
    "        ans.append(res)\n",
    "        i = i+1\n",
    "    print(ans)\n",
    "```\n",
    "\n",
    "if 실행문 안에 2에서 9로 nb의 범위를 설정해줍니다.\n",
    "i가 곱해진 결과값 res는 좀전에 만들어준 리스트 ans에 들어갑니다.\n",
    "사용하여 i가 9가 될 때까지 1씩 늘어나게 해줍니다. \n",
    "\n",
    "```\n",
    "else:\n",
    "    raise ValueError(\"2부터 9까지의 숫자 중 하나를 선택하세요.\")\n",
    "```\n",
    "만약 사용자가 입력한 수가 2와 9사이의 범위 밖인 경우에는 `raise ValueError`을 이용하여 사용자의 입력창에 에러가 뜨게 합니다. \n",
    "$\\\\$\n",
    "완성된 프로그램은 다음과 같습니다.\n",
    "```\n",
    "nb = int(input(\"구구단을 출력할 숫자를 입력하세요(2~9):\"))\n",
    "ans = []\n",
    "i = 1\n",
    "\n",
    "if nb >=2 and nb <= 9:\n",
    "    for i in range(1,10):\n",
    "        res = nb*i\n",
    "        ans.append(res)\n",
    "        i = i+1\n",
    "    print(ans)\n",
    "    \n",
    "else:\n",
    "    raise ValueError(\"2부터 9까지의 숫자 중 하나를 선택하세요.\")\n",
    "```\n",
    "\n",
    "------\n",
    "\n",
    "입력창에 7을 입력해봅시다."
   ]
  },
  {
   "cell_type": "code",
   "execution_count": 6,
   "id": "8baaaa04",
   "metadata": {},
   "outputs": [
    {
     "name": "stdout",
     "output_type": "stream",
     "text": [
      "구구단을 출력할 숫자를 입력하세요(2~9):7\n",
      "[7, 14, 21, 28, 35, 42, 49, 56, 63]\n"
     ]
    }
   ],
   "source": [
    "nb = int(input(\"구구단을 출력할 숫자를 입력하세요(2~9):\"))\n",
    "ans = []\n",
    "i = 1\n",
    "\n",
    "if nb >=2 and nb <= 9:\n",
    "    for i in range(1,10):\n",
    "        res = nb*i\n",
    "        ans.append(res)\n",
    "        i = i+1\n",
    "    print(ans)\n",
    "    \n",
    "else:\n",
    "    raise ValueError(\"2부터 9까지의 숫자 중 하나를 선택하세요.\")"
   ]
  },
  {
   "cell_type": "markdown",
   "id": "56928043",
   "metadata": {},
   "source": [
    "$\\\\\n",
    "\\\\$\n",
    "입력창에 2와 9사이의 수가 아닌 수를 입력했을 경우, 결과는 다음과 같습니다."
   ]
  },
  {
   "cell_type": "code",
   "execution_count": 7,
   "id": "70bd08e1",
   "metadata": {},
   "outputs": [
    {
     "name": "stdout",
     "output_type": "stream",
     "text": [
      "구구단을 출력할 숫자를 입력하세요(2~9):17\n"
     ]
    },
    {
     "ename": "ValueError",
     "evalue": "2부터 9까지의 숫자 중 하나를 선택하세요.",
     "output_type": "error",
     "traceback": [
      "\u001b[1;31m---------------------------------------------------------------------------\u001b[0m",
      "\u001b[1;31mValueError\u001b[0m                                Traceback (most recent call last)",
      "\u001b[1;32m~\\AppData\\Local\\Temp/ipykernel_5012/200158177.py\u001b[0m in \u001b[0;36m<module>\u001b[1;34m\u001b[0m\n\u001b[0;32m     11\u001b[0m \u001b[1;33m\u001b[0m\u001b[0m\n\u001b[0;32m     12\u001b[0m \u001b[1;32melse\u001b[0m\u001b[1;33m:\u001b[0m\u001b[1;33m\u001b[0m\u001b[1;33m\u001b[0m\u001b[0m\n\u001b[1;32m---> 13\u001b[1;33m     \u001b[1;32mraise\u001b[0m \u001b[0mValueError\u001b[0m\u001b[1;33m(\u001b[0m\u001b[1;34m\"2부터 9까지의 숫자 중 하나를 선택하세요.\"\u001b[0m\u001b[1;33m)\u001b[0m\u001b[1;33m\u001b[0m\u001b[1;33m\u001b[0m\u001b[0m\n\u001b[0m",
      "\u001b[1;31mValueError\u001b[0m: 2부터 9까지의 숫자 중 하나를 선택하세요."
     ]
    }
   ],
   "source": [
    "nb = int(input(\"구구단을 출력할 숫자를 입력하세요(2~9):\"))\n",
    "ans = []\n",
    "i = 1\n",
    "\n",
    "if nb >=2 and nb <= 9:\n",
    "    for i in range(1,10):\n",
    "        res = nb*i\n",
    "        ans.append(res)\n",
    "        i = i+1\n",
    "    print(ans)\n",
    "    \n",
    "else:\n",
    "    raise ValueError(\"2부터 9까지의 숫자 중 하나를 선택하세요.\")"
   ]
  }
 ],
 "metadata": {
  "kernelspec": {
   "display_name": "Python 3 (ipykernel)",
   "language": "python",
   "name": "python3"
  },
  "language_info": {
   "codemirror_mode": {
    "name": "ipython",
    "version": 3
   },
   "file_extension": ".py",
   "mimetype": "text/x-python",
   "name": "python",
   "nbconvert_exporter": "python",
   "pygments_lexer": "ipython3",
   "version": "3.8.2"
  }
 },
 "nbformat": 4,
 "nbformat_minor": 5
}
