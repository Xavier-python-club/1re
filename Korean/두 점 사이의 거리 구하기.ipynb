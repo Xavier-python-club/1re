{
 "cells": [
  {
   "cell_type": "markdown",
   "id": "be04a55a",
   "metadata": {},
   "source": [
    "좌표평면 위 두 점 사이의 거리를 구하는 법을 알아봅시다."
   ]
  },
  {
   "cell_type": "code",
   "execution_count": null,
   "id": "5ff12317",
   "metadata": {},
   "outputs": [],
   "source": [
    "from math import sqrt"
   ]
  },
  {
   "cell_type": "markdown",
   "id": "21076a9a",
   "metadata": {},
   "source": [
    "후에 루트를 사용하기 위해 math모듈에서 square root를 의미하는 sqrt를 불러와줍니다."
   ]
  },
  {
   "cell_type": "code",
   "execution_count": null,
   "id": "9375a530",
   "metadata": {},
   "outputs": [],
   "source": [
    "def d_points(xA,xB,yA,yB):"
   ]
  },
  {
   "cell_type": "markdown",
   "id": "27c620e8",
   "metadata": {},
   "source": [
    "두 개의 순서쌍 (xA,xB),(yA,yB)를 정의합니다."
   ]
  },
  {
   "cell_type": "code",
   "execution_count": null,
   "id": "a5e7b749",
   "metadata": {},
   "outputs": [],
   "source": [
    "d=sqrt((xB-xA)**2 + (yB-yA)**2)"
   ]
  },
  {
   "cell_type": "markdown",
   "id": "56d8fc3b",
   "metadata": {},
   "source": [
    "d를 두 점 사이의 거리 구하는 공식을 구하는 함수로 정의해줍니다."
   ]
  },
  {
   "cell_type": "code",
   "execution_count": null,
   "id": "fb7fe50e",
   "metadata": {},
   "outputs": [],
   "source": [
    "return d"
   ]
  },
  {
   "cell_type": "markdown",
   "id": "d90ad7bc",
   "metadata": {},
   "source": [
    "d 값을 불러내줍니다.\n",
    "\n",
    "완성된 함수는 다음과 같습니다."
   ]
  },
  {
   "cell_type": "code",
   "execution_count": null,
   "id": "a513c203",
   "metadata": {},
   "outputs": [],
   "source": [
    "from math import sqrt\n",
    "def d_points(xA,xB,yA,yB):\n",
    "    d=sqrt((xB-xA)**2 + (yB-yA)**2)\n",
    "    return d"
   ]
  },
  {
   "cell_type": "markdown",
   "id": "4aa47751",
   "metadata": {},
   "source": [
    "위 식을 이용하여 A(1,2). B(4,6) 일 때, 점A와 점B의 거리를 구해봅시다."
   ]
  },
  {
   "cell_type": "code",
   "execution_count": null,
   "id": "e0e69134",
   "metadata": {},
   "outputs": [],
   "source": [
    "from math import sqrt\n",
    "\n",
    "def d_points(xA,xB,yA,yB):\n",
    "    d=sqrt((xB-xA)**2 + (yB-yA)**2)\n",
    "    return d\n",
    "\n",
    "ans=d_points(1,2,4,6)\n",
    "print(ans)"
   ]
  },
  {
   "cell_type": "code",
   "execution_count": null,
   "id": "b87a9cd7",
   "metadata": {},
   "outputs": [],
   "source": []
  }
 ],
 "metadata": {
  "kernelspec": {
   "display_name": "Python 3 (ipykernel)",
   "language": "python",
   "name": "python3"
  }
 },
 "nbformat": 4,
 "nbformat_minor": 5
}
