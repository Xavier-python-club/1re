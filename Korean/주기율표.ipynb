{
 "cells": [
  {
   "cell_type": "markdown",
   "id": "d9793a49",
   "metadata": {},
   "source": [
    "#주기율표 원소의 위치 구하기\n",
    "1번부터 10번까지의 원소 중 하나를 입력했을 때 위치를 알려주는 모듈을 만들어봅시다.\n",
    "\n",
    "--------------------------\n",
    "\n",
    "```\n",
    "periodic = ['수소','헬륨','리튬','베릴륨','붕소','탄소','질소','산소','플루오린','네온']\n",
    "```\n",
    "리스트를 생성해서 1번부터 10번까지의 원소 이름들을 입력해줍니다. \n",
    "\n",
    "$\\\\$\n",
    "\n",
    "```\n",
    "atome = input('원소의 이름을 입력하세요: ')\n",
    "```\n",
    "사용자가 프로그램을 실행했을 때 원소의 이름을 입력할 수 있게 문구가 띄워집니다.\n",
    "\n",
    "$\\\\$\n",
    "\n",
    "```\n",
    "num = periodic.index(atome) + 1\n",
    "```\n",
    "`index`함수는 리스트 안에서의 해당 원소의 위치를 알려주는 함수입니다. python에서는 리스트의 원소 번호가 0부터 시작하므로 값에 1을 더해줍니다. \n",
    "\n",
    "$\\\\$\n",
    "\n",
    "```\n",
    "print('%s은(는) 주기율표에서 %d번째 원소입니니다.'%(atome,num))\n",
    "```\n",
    "`%s`와 `%d`는 문자열 내에서 변하는 값인 포맷문자열을 나타낼 때 사용합니다. `%s`는 문자열을, `%d`는 정수를 나타냅니다. `%()` 안에는 %의 순서대로 대입할 값을 적어줍니다.  \n",
    "문구와 함께 결과값을 출력해줍니다. \n",
    "\n",
    "$\\\\$\n",
    "\n",
    "----------------------------\n",
    "\n",
    "$\\\\$\n",
    "\n",
    "다음은 프로그램을 실행했을 때의 결과입니다."
   ]
  },
  {
   "cell_type": "code",
   "execution_count": 1,
   "id": "b6db40fe",
   "metadata": {},
   "outputs": [
    {
     "name": "stdout",
     "output_type": "stream",
     "text": [
      "원소의 이름을 입력하세요: 산소\n",
      "산소은(는) 주기율표에서 8번째 원소입니니다.\n"
     ]
    }
   ],
   "source": [
    "periodic = ['수소','헬륨','리튬','베릴륨','붕소','탄소','질소','산소','플루오린','네온']\n",
    "atome = input('원소의 이름을 입력하세요: ')\n",
    "num = periodic.index(atome) + 1\n",
    "print('%s은(는) 주기율표에서 %d번째 원소입니니다.'%(atome,num))"
   ]
  },
  {
   "cell_type": "code",
   "execution_count": 2,
   "id": "7d436026",
   "metadata": {},
   "outputs": [
    {
     "name": "stdout",
     "output_type": "stream",
     "text": [
      "원소의 이름을 입력하세요: 헬륨\n",
      "헬륨은(는) 주기율표에서 2번째 원소입니니다.\n"
     ]
    }
   ],
   "source": [
    "periodic = ['수소','헬륨','리튬','베릴륨','붕소','탄소','질소','산소','플루오린','네온']\n",
    "atome = input('원소의 이름을 입력하세요: ')\n",
    "num = periodic.index(atome) + 1\n",
    "print('%s은(는) 주기율표에서 %d번째 원소입니니다.'%(atome,num))"
   ]
  }
 ],
 "metadata": {
  "kernelspec": {
   "display_name": "Python 3 (ipykernel)",
   "language": "python",
   "name": "python3"
  },
  "language_info": {
   "codemirror_mode": {
    "name": "ipython",
    "version": 3
   },
   "file_extension": ".py",
   "mimetype": "text/x-python",
   "name": "python",
   "nbconvert_exporter": "python",
   "pygments_lexer": "ipython3",
   "version": "3.8.2"
  }
 },
 "nbformat": 4,
 "nbformat_minor": 5
}
