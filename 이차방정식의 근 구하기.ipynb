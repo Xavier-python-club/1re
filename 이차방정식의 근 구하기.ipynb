{
 "cells": [
  {
   "cell_type": "code",
   "execution_count": null,
   "id": "7dbf1b1f",
   "metadata": {},
   "outputs": [],
   "source": [
    "import math"
   ]
  },
  {
   "cell_type": "code",
   "execution_count": null,
   "id": "f250d9d6",
   "metadata": {},
   "outputs": [],
   "source": [
    "조금 뒤에 정의하게 될 판별식'delta'에서 루트를 사용하기 위해 'math' 모듈을 불러옵니다. "
   ]
  },
  {
   "cell_type": "code",
   "execution_count": null,
   "id": "a5730c50",
   "metadata": {},
   "outputs": [],
   "source": [
    "print(\"\"\"이차방정식의 근 구하기\n",
    "\n",
    "        ax^2 + bx + c = 0\n",
    "\n",
    "\"\"\")\n",
    "\n",
    "a = float(input(\"a 값을 입력하시오: \"))\n",
    "b = float(input(\"b 값을 입력하시오: \"))\n",
    "c = float(input(\"c 값을 입력하시오: \"))"
   ]
  },
  {
   "cell_type": "code",
   "execution_count": null,
   "id": "d5c3c859",
   "metadata": {},
   "outputs": [],
   "source": [
    "a, b, c 값에 따라 방정식의 근이 달라집니다.\n",
    "input을 이용하여 사용자가 a, b, c 의 값을 입력할 수 있도록 합니다.\n",
    "이때, 실수값 정의 명령어인 float를 이용합니다."
   ]
  },
  {
   "cell_type": "code",
   "execution_count": null,
   "id": "9c07a4d0",
   "metadata": {},
   "outputs": [],
   "source": [
    "def trinome(a,b,c):\n",
    "    delta = b**2 - 4*a*c\n",
    "    if delta == 0 :\n",
    "        return [-b/(2*a)]\n",
    "    elif delta < 0 :\n",
    "        return None\n",
    "    else:\n",
    "        return [(-b + math.sqrt(delta))/(2*a),(-b - math.sqrt(delta))/(2*a)]"
   ]
  },
  {
   "cell_type": "code",
   "execution_count": null,
   "id": "a4ea5fd7",
   "metadata": {},
   "outputs": [],
   "source": [
    "3항식 (a,b,c)를 정의합니다. \n",
    "이차방정식 근의 판별식을 delta라는 새로운 문자열로 정의합니다.\n",
    "만약 delta가 0이면 근이 하나밖에 나오지 않으므로 리스트 안에 -b/(2*a)를 return 합니다.\n",
    "delta가 0보다 작은 경우에는 실수범위 내에서 근이 존재하지 않으므로 None을 return해줍니다.\n",
    "delta가 0보다 작거나 같지 않으면 0보다 큰 경우밖에 없으므로 else를 사용합니다.\n",
    "delta가 0보다 클 경우에는 근이 두개가 나오므로 근의공식을 이용하여 이차방정식의 근을 계산하는 식을 세워줍니다."
   ]
  },
  {
   "cell_type": "code",
   "execution_count": null,
   "id": "0e2b4324",
   "metadata": {},
   "outputs": [],
   "source": [
    "if a == 0:\n",
    "    raise ValueError(\"'a' 값은 0이 될 수 없습니다.\")"
   ]
  },
  {
   "cell_type": "code",
   "execution_count": null,
   "id": "bd331b9c",
   "metadata": {},
   "outputs": [],
   "source": [
    "만일 a가 0일 경우에는 x^2의 계수가 0이 되는 것과 같습니다.\n",
    "이 경우, 방정식의 차수가 1이 되므로 이차방정식의 근을 찾을 수 없습니다.\n",
    "사용자가 a의 값에 0을 넣었을 경우 오류를 띄워줍니다. "
   ]
  },
  {
   "cell_type": "code",
   "execution_count": null,
   "id": "6d749325",
   "metadata": {},
   "outputs": [],
   "source": [
    "S = trinome(a, b, c)"
   ]
  },
  {
   "cell_type": "code",
   "execution_count": null,
   "id": "bc1ef2c9",
   "metadata": {},
   "outputs": [],
   "source": [
    "앞서 정의한 3항식 a, b, c를 새로운 개체 S로 정의합니다"
   ]
  },
  {
   "cell_type": "code",
   "execution_count": null,
   "id": "b6882978",
   "metadata": {},
   "outputs": [],
   "source": [
    "if S == None:\n",
    "    print(\"근이 없습니다\")\n",
    "elif len(S) == 1:\n",
    "    print(f\"1개의 근: {S[0]}\")\n",
    "else:\n",
    "    print(f\"2개의 근: {S}\")"
   ]
  },
  {
   "cell_type": "code",
   "execution_count": null,
   "id": "51ba6520",
   "metadata": {},
   "outputs": [],
   "source": [
    "S에 해당되는 값이 없을 때 \"근이 없습니다\" 라는 문구를 보여줍니다\n",
    "S에 해당되는 값이 있을 경우(근이 존재하는 경우), 근의 갯수와 함께 근들을 보여줍니다.\n",
    "\n",
    "\n",
    "완성된 식은 다음과 같습니다. "
   ]
  },
  {
   "cell_type": "code",
   "execution_count": null,
   "id": "4d12f1d6",
   "metadata": {},
   "outputs": [],
   "source": [
    "import math\n",
    "\n",
    "print(\"\"\"이차방정식의 근 구하기\n",
    "\n",
    "        ax^2 + bx + c = 0\n",
    "\n",
    "\"\"\")\n",
    "\n",
    "a = float(input(\"a 값을 입력하시오: \"))\n",
    "b = float(input(\"b 값을 입력하시오: \"))\n",
    "c = float(input(\"c 값을 입력하시오: \"))\n",
    "\n",
    "def trinome(a,b,c):\n",
    "    delta = b**2 - 4*a*c\n",
    "    if delta == 0 :\n",
    "        return [-b/(2*a)]\n",
    "    elif delta < 0 :\n",
    "        return None\n",
    "    else:\n",
    "        return [(-b + math.sqrt(delta))/(2*a),(-b - math.sqrt(delta))/(2*a)]\n",
    "\n",
    "if a == 0:\n",
    "    raise ValueError(\"'a' 값은 0이 될 수 없습니다.\")\n",
    "\n",
    "S = trinome(a, b, c)\n",
    "\n",
    "if S == None:\n",
    "    print(\"근이 없습니다\")\n",
    "elif len(S) == 1:\n",
    "    print(f\"1개의 근: {S[0]}\")\n",
    "else:\n",
    "    print(f\"2개의 근: {S}\")"
   ]
  },
  {
   "cell_type": "code",
   "execution_count": null,
   "id": "4cb44695",
   "metadata": {},
   "outputs": [],
   "source": []
  }
 ],
 "metadata": {
  "kernelspec": {
   "display_name": "Python 3 (ipykernel)",
   "language": "python",
   "name": "python3"
  },
  "language_info": {
   "codemirror_mode": {
    "name": "ipython",
    "version": 3
   },
   "file_extension": ".py",
   "mimetype": "text/x-python",
   "name": "python",
   "nbconvert_exporter": "python",
   "pygments_lexer": "ipython3",
   "version": "3.8.2"
  }
 },
 "nbformat": 4,
 "nbformat_minor": 5
}
