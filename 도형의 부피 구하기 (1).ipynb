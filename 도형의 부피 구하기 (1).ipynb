{
 "cells": [
  {
   "cell_type": "markdown",
   "id": "6626a8c6",
   "metadata": {},
   "source": [
    "#도형의 부피 구하기\n",
    "\n",
    "-------------------\n",
    "\n",
    "도형의 부피를 계산해보도록 합시다.\n",
    "\n",
    "먼저 정육면체의 부피를 계산하는 법입니다.\n",
    "\n",
    "\n",
    "```\n",
    "def vol_cube(c):\n",
    "```\n",
    "\n",
    "vol_cube(c) 를 정육면체의 한 변으로 정의해줍니다.\n",
    "\n",
    "```\n",
    "    v=c**3\n",
    "```\n",
    "\n",
    "v를 정육면체의 부피를 계산하는 함수로써 정의합니다.\n",
    "다시 말해 c의 세제곱을 계산합니다.\n",
    "\n",
    "```\n",
    "return v\n",
    "```\n",
    "\n",
    "마지막으로 정육면체의 부피를 계산한 값을 불러냅니다.\n",
    "\n",
    "완성된 식은 다음과 같습니다.\n",
    "\n",
    "```\n",
    "def vol_cube(c):\n",
    "    v=c**3\n",
    "    return v\n",
    "```\n",
    "\n",
    "------------------------\n",
    "\n",
    "같은 방식으로 원기둥의 부피도 계산할 수 있습니다.\n",
    "\n",
    "```\n",
    "from math import pi\n",
    "```\n",
    "\n",
    "원기둥을 부피를 구하기 위해서는 '파이'가 필요하므로 math모듈에서 불러와줍니다.\n",
    "\n",
    "```\n",
    "def vol_cyl(r,h):\n",
    "```\n",
    "\n",
    "r는 원의 반지름, h는 높이를 의미합니다.\n",
    "\n",
    "```\n",
    "v=pi*r**2*h\n",
    "```\n",
    "\n",
    "원기둥의 부피를 구하는 공식인 \n",
    "$ V = h*r^2*pi$\n",
    "를 계산합니다.\n",
    "\n",
    "```\n",
    "return v\n",
    "```\n",
    "\n",
    "원기둥의 부피를 계산한 값을 불러옵니다.\n",
    "\n",
    "완성된 식은 다음과 같습니다.\n",
    "\n",
    "```\n",
    "def vol_cyl(r,h):\n",
    "    v=pi*r**2*h\n",
    "    return v\n",
    "```\n",
    "\n",
    "이런 식으로 구하고자하는 도형의 부피를 구하는 공식만 다르게 설정하면 모든 도형의 부피를 구할 수 있습니다. \n",
    "\n",
    "------------------------------------------\n",
    "\n",
    "반지름이 3, 높이 9인 원기둥의 부피를 계산해봅시다. "
   ]
  },
  {
   "cell_type": "code",
   "execution_count": 1,
   "id": "33c0f60a",
   "metadata": {},
   "outputs": [
    {
     "name": "stdout",
     "output_type": "stream",
     "text": [
      "254.46900494077323\n"
     ]
    }
   ],
   "source": [
    "from math import pi\n",
    "\n",
    "def vol_cyl(r,h):\n",
    "    v=pi*r**2*h\n",
    "    return v\n",
    "\n",
    "ans = vol_cyl(3,9)\n",
    "print(ans)"
   ]
  },
  {
   "cell_type": "markdown",
   "id": "0ea7ab1b",
   "metadata": {},
   "source": [
    "이는 부피가 254,47 cm^3인 원기둥임을 알 수 있습니다."
   ]
  }
 ],
 "metadata": {
  "kernelspec": {
   "display_name": "Python 3 (ipykernel)",
   "language": "python",
   "name": "python3"
  },
  "language_info": {
   "codemirror_mode": {
    "name": "ipython",
    "version": 3
   },
   "file_extension": ".py",
   "mimetype": "text/x-python",
   "name": "python",
   "nbconvert_exporter": "python",
   "pygments_lexer": "ipython3",
   "version": "3.8.2"
  }
 },
 "nbformat": 4,
 "nbformat_minor": 5
}
