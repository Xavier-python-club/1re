{
 "cells": [
  {
   "cell_type": "markdown",
   "id": "6a2023a9",
   "metadata": {},
   "source": [
    "도형의 부피를 계산해보도록 합시다.\n",
    "\n",
    "먼저 정육면체의 부피를 계산하는 법입니다."
   ]
  },
  {
   "cell_type": "code",
   "execution_count": null,
   "id": "a16b6e75",
   "metadata": {},
   "outputs": [],
   "source": [
    "def vol_cube(c):"
   ]
  },
  {
   "cell_type": "markdown",
   "id": "be97dea0",
   "metadata": {},
   "source": [
    "vol_cube(c) 를 정육면체의 한 변으로 정의해줍니다."
   ]
  },
  {
   "cell_type": "code",
   "execution_count": null,
   "id": "a3f5cd54",
   "metadata": {},
   "outputs": [],
   "source": [
    "v=c**3"
   ]
  },
  {
   "cell_type": "markdown",
   "id": "e58b077f",
   "metadata": {},
   "source": [
    "v를 정육면체의 부피를 계산하는 함수로써 정의합니다.\n",
    "다시 말해 c의 세제곱을 계산합니다."
   ]
  },
  {
   "cell_type": "code",
   "execution_count": null,
   "id": "b0f88ec4",
   "metadata": {},
   "outputs": [],
   "source": [
    "return v"
   ]
  },
  {
   "cell_type": "markdown",
   "id": "1b46145d",
   "metadata": {},
   "source": [
    "마지막으로 정육면체의 부피를 계산한 값을 불러냅니다.\n",
    "\n",
    "완성된 식은 다음과 같습니다."
   ]
  },
  {
   "cell_type": "code",
   "execution_count": null,
   "id": "a2547e75",
   "metadata": {},
   "outputs": [],
   "source": [
    "def vol_cube(c):\n",
    "    v=c**3\n",
    "    return v"
   ]
  },
  {
   "cell_type": "markdown",
   "id": "e79226f9",
   "metadata": {},
   "source": [
    "\n",
    "같은 방식으로 원기둥의 부피도 계산할 수 있습니다."
   ]
  },
  {
   "cell_type": "code",
   "execution_count": null,
   "id": "a495eed8",
   "metadata": {},
   "outputs": [],
   "source": [
    "from math import pi"
   ]
  },
  {
   "cell_type": "markdown",
   "id": "4efc3c2d",
   "metadata": {},
   "source": [
    "원기둥을 부피를 구하기 위해서는 '파이'가 필요하므로 math모듈에서 불러와줍니다."
   ]
  },
  {
   "cell_type": "code",
   "execution_count": null,
   "id": "fe0493b3",
   "metadata": {},
   "outputs": [],
   "source": [
    "def vol_cyl(r,h):"
   ]
  },
  {
   "cell_type": "markdown",
   "id": "42fc0959",
   "metadata": {},
   "source": [
    "r는 원의 반지름, h는 높이를 의미합니다."
   ]
  },
  {
   "cell_type": "code",
   "execution_count": null,
   "id": "9fa42583",
   "metadata": {},
   "outputs": [],
   "source": [
    "v=pi*r**2*h"
   ]
  },
  {
   "cell_type": "markdown",
   "id": "2994a141",
   "metadata": {},
   "source": [
    "원기둥의 부피를 구하는 공식인 (파이)x(반지름의 제곱)x(높이)를 계산합니다."
   ]
  },
  {
   "cell_type": "code",
   "execution_count": null,
   "id": "b07f1e43",
   "metadata": {},
   "outputs": [],
   "source": [
    "return v"
   ]
  },
  {
   "cell_type": "markdown",
   "id": "21fdb8d5",
   "metadata": {},
   "source": [
    "원기둥의 부피를 계산한 값을 불러옵니다.\n",
    "\n",
    "완성된 식은 다음과 같습니다."
   ]
  },
  {
   "cell_type": "code",
   "execution_count": null,
   "id": "2953dcc9",
   "metadata": {},
   "outputs": [],
   "source": [
    "def vol_cyl(r,h):\n",
    "    v=pi*r**2*h\n",
    "    return v"
   ]
  },
  {
   "cell_type": "markdown",
   "id": "89509cb3",
   "metadata": {},
   "source": [
    "이런 식으로 구하고자하는 도형의 부피를 구하는 공식만 다르게 설정하면 모든 도형의 부피를 구할 수 있습니다. "
   ]
  },
  {
   "cell_type": "code",
   "execution_count": null,
   "id": "55fa5659",
   "metadata": {},
   "outputs": [],
   "source": []
  }
 ],
 "metadata": {
  "kernelspec": {
   "display_name": "Python 3 (ipykernel)",
   "language": "python",
   "name": "python3"
  }
 },
 "nbformat": 4,
 "nbformat_minor": 5
}
