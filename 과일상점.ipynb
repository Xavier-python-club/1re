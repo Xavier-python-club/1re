{
 "cells": [
  {
   "cell_type": "markdown",
   "id": "f1ebdfb1",
   "metadata": {},
   "source": [
    "#가격 계산하기\n",
    "사용자가 선택한 상품들의 가격을 더해 총 지불 금액을 계산합니다.\n",
    "$\\\\$\n",
    "\n",
    "--------------------\n",
    "\n",
    "$\\\\$\n",
    "\n",
    "```\n",
    "price = 0\n",
    "```\n",
    "\n",
    "최종적으로 출력 될 가격을 칭하는 문자열에 0이라는 숫자를 대입해줍니다.\n",
    "\n",
    "$\\\\$\n",
    "\n",
    "```\n",
    "cart = input('사과,귤,수박,포도,멜론\\n구매하실 과일을 선택하세요:')\n",
    "res = cart.split(sep=',')\n",
    "```\n",
    "사용자가 프로그램을 실행했을 때, `input()`함수를 이용하여 구매할 수 있는 상품을 나열하고 상품을 선택할 수 있는 입력란을 띄워줍니다. 이때, `\\n`을 이용해서 줄을 나눠줍니다. 사용자가 입력한 값은 cart에 문자열의 형태로 들어값니다.  \n",
    "사용자는 쉼표를 이용하여 여러가지 상품들을 선택할 수 있는데, 사용자가 입력한 값들은 하나의 문자열로써 나타납니다. \n",
    "\n",
    "$\\\\$"
   ]
  },
  {
   "cell_type": "code",
   "execution_count": 1,
   "id": "ffd47ced",
   "metadata": {},
   "outputs": [
    {
     "name": "stdout",
     "output_type": "stream",
     "text": [
      "사과,귤,수박,포도,멜론\n",
      "구매하실 과일을 선택하세요:수박,멜론\n"
     ]
    }
   ],
   "source": [
    "cart = input('사과,귤,수박,포도,멜론\\n구매하실 과일을 선택하세요:')"
   ]
  },
  {
   "cell_type": "code",
   "execution_count": 2,
   "id": "5ad456c2",
   "metadata": {},
   "outputs": [
    {
     "data": {
      "text/plain": [
       "'수박,멜론'"
      ]
     },
     "execution_count": 2,
     "metadata": {},
     "output_type": "execute_result"
    }
   ],
   "source": [
    "cart"
   ]
  },
  {
   "cell_type": "markdown",
   "id": "57a590ca",
   "metadata": {},
   "source": [
    "그러므로 `split()`함수를 이용하여 이를 나눠줍니다. 나누어진 문자열들은 리스트의 형태로 나타납니다."
   ]
  },
  {
   "cell_type": "code",
   "execution_count": 3,
   "id": "168a25af",
   "metadata": {},
   "outputs": [],
   "source": [
    "res = cart.split(sep=',')"
   ]
  },
  {
   "cell_type": "code",
   "execution_count": 4,
   "id": "4b462401",
   "metadata": {},
   "outputs": [
    {
     "data": {
      "text/plain": [
       "['수박', '멜론']"
      ]
     },
     "execution_count": 4,
     "metadata": {},
     "output_type": "execute_result"
    }
   ],
   "source": [
    "res"
   ]
  },
  {
   "cell_type": "markdown",
   "id": "6e38e46c",
   "metadata": {},
   "source": [
    "$\\\\$\n",
    "\n",
    "```\n",
    "if '사과' in res:\n",
    "    price = price + 1000\n",
    "\n",
    "if '귤' in res:\n",
    "    price = price + 500\n",
    "\n",
    "if '수박' in res:\n",
    "    price = price + 10000\n",
    "\n",
    "if '포도' in res:\n",
    "    price = price + 3000\n",
    "\n",
    "if '멜론' in res:\n",
    "    price = price + 8000\n",
    "```\n",
    "if문을 사용하여 만약 사용자가 선택한 과일이 res리스트에 있는지 확인하고, 만약 있다면 price 값에 상품의 가격을 더해줍니다. \n",
    "\n",
    "$\\\\$\n",
    "\n",
    "```\n",
    "print('지불하실 금액은 ' + str(price) +'원 입니다,')\n",
    "```\n",
    "마지막으로 문구와 함께 price값에 더해진 최종 가격을 출력해줍니다.  \n",
    "이때, price값은 문자열 형식이어야합니다.  \n",
    "$\\\\$\n",
    "-------------------------\n",
    "프로그램을 실행한 결과는 다음과 같습니다."
   ]
  },
  {
   "cell_type": "code",
   "execution_count": 5,
   "id": "5ab8ac4a",
   "metadata": {},
   "outputs": [
    {
     "name": "stdout",
     "output_type": "stream",
     "text": [
      "사과,귤,수박,포도,멜론\n",
      "구매하실 과일을 선택하세요:사과,귤,포도\n",
      "지불하실 금액은 4500원 입니다,\n"
     ]
    }
   ],
   "source": [
    "price = 0\n",
    "cart = input('사과,귤,수박,포도,멜론\\n구매하실 과일을 선택하세요:')\n",
    "res = cart.split(sep=',')\n",
    "\n",
    "if '사과' in res:\n",
    "    price = price + 1000\n",
    "\n",
    "if '귤' in res:\n",
    "    price = price + 500\n",
    "\n",
    "if '수박' in res:\n",
    "    price = price + 10000\n",
    "\n",
    "if '포도' in res:\n",
    "    price = price + 3000\n",
    "\n",
    "if '멜론' in res:\n",
    "    price = price + 8000\n",
    "\n",
    "print('지불하실 금액은 ' + str(price) +'원 입니다,')"
   ]
  }
 ],
 "metadata": {
  "kernelspec": {
   "display_name": "Python 3 (ipykernel)",
   "language": "python",
   "name": "python3"
  },
  "language_info": {
   "codemirror_mode": {
    "name": "ipython",
    "version": 3
   },
   "file_extension": ".py",
   "mimetype": "text/x-python",
   "name": "python",
   "nbconvert_exporter": "python",
   "pygments_lexer": "ipython3",
   "version": "3.8.2"
  }
 },
 "nbformat": 4,
 "nbformat_minor": 5
}
