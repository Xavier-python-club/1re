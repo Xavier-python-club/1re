{
  "metadata": {
    "kernelspec": {
      "display_name": "Pyolite",
      "language": "python",
      "name": "python"
    },
    "language_info": {
      "codemirror_mode": {
        "name": "python",
        "version": 3
      },
      "file_extension": ".py",
      "mimetype": "text/x-python",
      "name": "python",
      "nbconvert_exporter": "python",
      "pygments_lexer": "ipython3",
      "version": "3.8"
    }
  },
  "nbformat_minor": 5,
  "nbformat": 4,
  "cells": [
    {
      "cell_type": "raw",
      "source": "Aujourd'hui nous allons apprendre à calculer la somme de 1+2+...+100.",
      "metadata": {},
      "id": "dc550914-87f1-49f6-a02b-da7c1779f79f"
    },
    {
      "cell_type": "code",
      "source": "a=0",
      "metadata": {
        "trusted": true
      },
      "execution_count": 1,
      "outputs": [],
      "id": "5e150730-3d38-4577-86d8-45103c893139"
    },
    {
      "cell_type": "code",
      "source": "for i in range(1,101):\n    a=a+i",
      "metadata": {
        "trusted": true
      },
      "execution_count": 2,
      "outputs": [],
      "id": "ee267998-9094-46e4-8862-c211948b7114"
    },
    {
      "cell_type": "markdown",
      "source": "En effet, il faut le régler de 1 à 101 puisque la fonction range n'inclut pas le 101 mais va attribuer à i une valeur de 1 jusqu'à 100 (101 étant exclu). ",
      "metadata": {},
      "id": "964f8965-8858-4eb7-9f86-810a45e1b831"
    },
    {
      "cell_type": "markdown",
      "source": "La formule fait que a soit la somme de toutes les valeurs précédentes.",
      "metadata": {},
      "id": "2e0cdcfd-031a-492c-bdcf-7e64cd6d278b"
    },
    {
      "cell_type": "code",
      "source": "print(a)",
      "metadata": {
        "trusted": true
      },
      "execution_count": 3,
      "outputs": [
        {
          "name": "stdout",
          "text": "5050\n",
          "output_type": "stream"
        }
      ],
      "id": "09a85395-6f78-4ac4-a5d3-f5d87c26fd56"
    },
    {
      "cell_type": "markdown",
      "source": "Ainsi, la somme de ",
      "metadata": {},
      "id": "7ce9760f-c9a8-4f1b-807a-41bcf9b00125"
    }
  ]
}